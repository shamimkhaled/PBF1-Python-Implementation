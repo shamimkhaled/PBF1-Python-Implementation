{
  "cells": [
    {
      "cell_type": "code",
      "execution_count": null,
      "metadata": {
        "colab": {
          "base_uri": "https://localhost:8080/"
        },
        "id": "Wnd0tEHTO4iM",
        "outputId": "8168552d-91b6-4dc7-b950-6a90c1b79831"
      },
      "outputs": [
        {
          "output_type": "stream",
          "name": "stdout",
          "text": [
            "Looking in indexes: https://pypi.org/simple, https://us-python.pkg.dev/colab-wheels/public/simple/\n",
            "Collecting testcase\n",
            "  Downloading testcase-0.1.0-py3-none-any.whl (2.9 kB)\n",
            "Installing collected packages: testcase\n",
            "Successfully installed testcase-0.1.0\n"
          ]
        }
      ],
      "source": [
        "!pip install testcase"
      ]
    },
    {
      "cell_type": "code",
      "execution_count": null,
      "metadata": {
        "colab": {
          "base_uri": "https://localhost:8080/"
        },
        "id": "YAJ7b6m9mzoo",
        "outputId": "e8b07d8f-cbcc-415b-cfa5-0bd25db3fd68"
      },
      "outputs": [
        {
          "output_type": "stream",
          "name": "stdout",
          "text": [
            "Looking in indexes: https://pypi.org/simple, https://us-python.pkg.dev/colab-wheels/public/simple/\n",
            "Collecting mmh3\n",
            "  Downloading mmh3-3.0.0-cp37-cp37m-manylinux2010_x86_64.whl (50 kB)\n",
            "\u001b[K     |████████████████████████████████| 50 kB 3.3 MB/s \n",
            "\u001b[?25hInstalling collected packages: mmh3\n",
            "Successfully installed mmh3-3.0.0\n"
          ]
        }
      ],
      "source": [
        "!pip install mmh3"
      ]
    },
    {
      "cell_type": "code",
      "execution_count": null,
      "metadata": {
        "id": "WSsRMc_UTvtk"
      },
      "outputs": [],
      "source": [
        "import mmh3 as mmh3"
      ]
    },
    {
      "cell_type": "code",
      "execution_count": null,
      "metadata": {
        "id": "-gcwVWQiRAhR"
      },
      "outputs": [],
      "source": [
        "import numpy as np"
      ]
    },
    {
      "cell_type": "code",
      "execution_count": null,
      "metadata": {
        "colab": {
          "base_uri": "https://localhost:8080/"
        },
        "id": "zJ8n5YlnRAhR",
        "outputId": "5609ea20-68d4-42ef-bcdd-3020e030fffe"
      },
      "outputs": [
        {
          "output_type": "stream",
          "name": "stdout",
          "text": [
            "Looking in indexes: https://pypi.org/simple, https://us-python.pkg.dev/colab-wheels/public/simple/\n",
            "Collecting bitsets\n",
            "  Downloading bitsets-0.8.4-py3-none-any.whl (13 kB)\n",
            "Installing collected packages: bitsets\n",
            "Successfully installed bitsets-0.8.4\n"
          ]
        }
      ],
      "source": [
        "!pip install bitsets\n",
        "from bitsets import bitset"
      ]
    },
    {
      "cell_type": "code",
      "execution_count": null,
      "metadata": {
        "id": "64eyrvufRM8n"
      },
      "outputs": [],
      "source": [
        "#!/usr/bin/env python\n",
        "# package: edu.ecnu.pbf\n",
        "\n",
        "\n",
        "# \n",
        "#  * Unit test for simple App.\n",
        "# \\\n",
        "import testcase \n",
        "import unittest\n",
        "class AppTest(unittest.TestCase):\n",
        "   \n",
        "    def __init__(self, testName):\n",
        "        \"\"\" generated source for method __init__ \"\"\"\n",
        "        super(AppTest, self).__init__(testName)\n",
        "\n",
        "    def suite(cls):\n",
        "        \"\"\" generated source for method suite \"\"\"\n",
        "        return TestSuite(AppTest.__class__)\n",
        "     \n",
        "    def testApp(self):\n",
        "        \"\"\" generated source for method testApp \"\"\"\n",
        "        assertTrue(True)"
      ]
    },
    {
      "cell_type": "code",
      "execution_count": null,
      "metadata": {
        "id": "-v4bVxuTXeMc"
      },
      "outputs": [],
      "source": []
    },
    {
      "cell_type": "code",
      "execution_count": null,
      "metadata": {
        "id": "EuVey044Xej0"
      },
      "outputs": [],
      "source": [
        "class DualTuple:\n",
        "\tdef __init__(self, first, second):\n",
        "\t\tself.first = first\n",
        "\t\tself.second = second\n",
        "\t\n",
        "\tdef getFirst(self):\n",
        "\t\treturn self.first\n",
        "\t\n",
        "\tdef getSecond(self):\n",
        "\t\treturn self.second\n",
        "\t\n",
        "\tdef toString(self):\n",
        "\t\treturn \"(\" + self.first + \",\"  + self.second + \")\""
      ]
    },
    {
      "cell_type": "code",
      "execution_count": null,
      "metadata": {
        "id": "L-j_Om-gfcdy"
      },
      "outputs": [],
      "source": [
        "from abc import ABCMeta, abstractmethod"
      ]
    },
    {
      "cell_type": "code",
      "execution_count": null,
      "metadata": {
        "id": "1_YikRMTZarU"
      },
      "outputs": [],
      "source": [
        "class PersistentBloomFilter(object):\n",
        "    def insertString(self, element, timestamp):\n",
        "        pass\n",
        "\n",
        "    def queryString(self, element, timestamp):\n",
        "        pass\n",
        "\n",
        "    def queryString(self, element, startTime, endTime):\n",
        "        pass\n",
        "\n",
        "    def insert(self, element, timestamp):\n",
        "        pass\n",
        "\n",
        "    def query(self, element, timestamp):\n",
        "        pass\n",
        "\n",
        "    def query(self, element, startTime, endTime):\n",
        "        pass"
      ]
    },
    {
      "cell_type": "code",
      "execution_count": null,
      "metadata": {
        "colab": {
          "base_uri": "https://localhost:8080/"
        },
        "id": "kv6TgsY9hQ0l",
        "outputId": "037b221c-72d6-4370-fc08-805f246b1686"
      },
      "outputs": [
        {
          "output_type": "stream",
          "name": "stdout",
          "text": [
            "Looking in indexes: https://pypi.org/simple, https://us-python.pkg.dev/colab-wheels/public/simple/\n",
            "Collecting bitarray\n",
            "  Downloading bitarray-2.6.0-cp37-cp37m-manylinux_2_17_x86_64.manylinux2014_x86_64.whl (235 kB)\n",
            "\u001b[K     |████████████████████████████████| 235 kB 4.9 MB/s \n",
            "\u001b[?25hInstalling collected packages: bitarray\n",
            "Successfully installed bitarray-2.6.0\n"
          ]
        }
      ],
      "source": [
        "!pip install bitarray"
      ]
    },
    {
      "cell_type": "code",
      "execution_count": null,
      "metadata": {
        "id": "diPjhtJ1TfxZ"
      },
      "outputs": [],
      "source": [
        "from bitarray import bitarray "
      ]
    },
    {
      "cell_type": "code",
      "execution_count": null,
      "metadata": {
        "colab": {
          "base_uri": "https://localhost:8080/"
        },
        "id": "87zXBFuXjVXM",
        "outputId": "c84db9cd-97e4-48a8-8dd6-52fdbcc45739"
      },
      "outputs": [
        {
          "output_type": "stream",
          "name": "stdout",
          "text": [
            "Looking in indexes: https://pypi.org/simple, https://us-python.pkg.dev/colab-wheels/public/simple/\n",
            "Collecting bitset\n",
            "  Downloading BitSet-0.1.2.tar.gz (5.0 kB)\n",
            "Building wheels for collected packages: bitset\n",
            "  Building wheel for bitset (setup.py) ... \u001b[?25l\u001b[?25hdone\n",
            "  Created wheel for bitset: filename=BitSet-0.1.2-py3-none-any.whl size=5304 sha256=bdb7cc36c0bbfd66e55a186f5568de4676d101cf614fc8fb4e32f783b062b11a\n",
            "  Stored in directory: /root/.cache/pip/wheels/7b/d8/73/0dbf9b6cbddc832614ff1891f84b8ec4d5ac0e1d41669ba5ff\n",
            "Successfully built bitset\n",
            "Installing collected packages: bitset\n",
            "Successfully installed bitset-0.1.2\n"
          ]
        }
      ],
      "source": [
        "!pip install bitset"
      ]
    },
    {
      "cell_type": "code",
      "execution_count": null,
      "metadata": {
        "colab": {
          "base_uri": "https://localhost:8080/"
        },
        "id": "x_lrA0qHjERC",
        "outputId": "d7f66a60-01e7-4322-ce3d-f13b5c062395"
      },
      "outputs": [
        {
          "output_type": "stream",
          "name": "stderr",
          "text": [
            "/usr/local/lib/python3.7/dist-packages/ipykernel_launcher.py:1: DeprecationWarning: Using or importing the ABCs from 'collections' instead of from 'collections.abc' is deprecated since Python 3.3,and in 3.9 it will stop working\n",
            "  \"\"\"Entry point for launching an IPython kernel.\n"
          ]
        }
      ],
      "source": [
        "from collections import Sequence\n",
        "import math\n",
        "\n",
        "class BitSet(Sequence):\n",
        "\n",
        "    value = 0\n",
        "    length = 0\n",
        "\n",
        "    def from_sequence(cls, seq):\n",
        "        n = 0\n",
        "        for index, value in enumerate(reversed(seq)):\n",
        "            n += 2**index * bool(int(value))\n",
        "        b = Bitset(n)\n",
        "        return b\n",
        "\n",
        "    def __init__(self, value=0, length=0):\n",
        "        \"\"\"Creates a Bitset with the given integer value.\"\"\"\n",
        "        self.value = value\n",
        "        try: self.length = length or math.floor(math.log(value, 2)) + 1\n",
        "        except Exception: self.length = 0\n",
        "\n",
        "    def __and__(self, other):\n",
        "        b = Bitset(self.value & int(other))\n",
        "        b.length = max((self.length, b.length))\n",
        "        return b\n",
        "\n",
        "    def __or__(self, other):\n",
        "        b = Bitset(self.value | int(other))\n",
        "        b.length = max((self.length, b.length))\n",
        "        return b\n",
        "\n",
        "    def __invert__(self):\n",
        "        b = Bitset(~self.value)\n",
        "        b.length = max((self.length, b.length))\n",
        "        return b\n",
        "\n",
        "    def __xor__(self, value):\n",
        "        b = Bitset(self.value ^ int(value))\n",
        "        b.length = max((self.length, b.length))\n",
        "        return b\n",
        "\n",
        "    def __lshift__(self, value):\n",
        "        b = Bitset(self.value << int(value))\n",
        "        b.length = max((self.length, b.length))\n",
        "        return b\n",
        "\n",
        "    def __rshift__(self, value):\n",
        "        b = Bitset(self.value >> int(value))\n",
        "        b.length = max((self.length, b.length))\n",
        "        return b\n",
        "\n",
        "    def __eq__(self, other):\n",
        "        try:\n",
        "            return self.value == other.value\n",
        "        except Exception:\n",
        "            return self.value == other\n",
        "\n",
        "    def __int__(self):\n",
        "        return self.value\n",
        "\n",
        "    def __str__(self):\n",
        "        s = \"\"\n",
        "        for i in self[:]:\n",
        "            s += \"1\" if i else \"0\"\n",
        "        return s\n",
        "\n",
        "    def __repr__(self):\n",
        "        return \"Bitset(%s)\" % str(self)\n",
        "\n",
        "    def __getitem__(self, s):\n",
        "        \"\"\"Gets the specified position.\n",
        "\n",
        "        Like normal integers, 0 represents the MSB.\n",
        "        \"\"\"\n",
        "        try:\n",
        "            start, stop, step = s.indices(len(self))\n",
        "            a = []\n",
        "            for x in y:\n",
        "                a.append(x)\n",
        "            results =np.array(a)\n",
        "            for position in range(start, stop, step):\n",
        "                pos = len(self) - position - 1\n",
        "                results.append(bool(self.value & (int(np.left_shift(1,pos)))))\n",
        "            return results\n",
        "        except:\n",
        "            pos = len(self) - s - 1\n",
        "            return bool(self.value & (int(np.left_shift(1,pos))))\n",
        "\n",
        "    def __setitem__(self, s, value):\n",
        "        \"\"\"Sets the specified position/s to value.\n",
        "\n",
        "        Like normal integers, 0 represents the MSB.\n",
        "        \"\"\"\n",
        "        try:\n",
        "            start, stop, step = s.indices(len(self))\n",
        "            for position in range(start, stop, step):\n",
        "                pos = len(self) - position - 1\n",
        "                if value: self.value |= (int(np.left_shift(1,pos)))\n",
        "                else: self.value &= ~(int(np.left_shift(1,pos)))\n",
        "            maximum_position = max((start + 1, stop, len(self)))\n",
        "            self.length = maximum_position\n",
        "        except:\n",
        "            pos = len(self) - s - 1\n",
        "            if value: self.value |= (int(np.left_shift(1,pos)))\n",
        "            else: self.value &= ~(int(np.left_shift(1,pos)))\n",
        "            if len(self) < pos: self.length = pos\n",
        "        return self\n",
        "\n",
        "    def __iter__(self):\n",
        "        \"\"\"Iterates over the values in the bitset.\"\"\"\n",
        "        for i in self[:]:\n",
        "            yield i\n",
        "\n",
        "    def __len__(self):\n",
        "        \"\"\"Returns the length of the bitset.\"\"\"\n",
        "        return self.length"
      ]
    },
    {
      "cell_type": "code",
      "execution_count": null,
      "metadata": {
        "id": "v4X2UTjHZ_oR"
      },
      "outputs": [],
      "source": [
        "class Beta0:\n",
        "    #def __init__(self):\n",
        "        #self.bitNum = 1000000\n",
        "        #self.hashNum = 4\n",
        "        #self.bs = bitarray(self.bitNum)\n",
        "        \n",
        "    def __init__(self, bitNum=1000000, hashNum= 4):\n",
        "        self.bitNum = bitNum\n",
        "        self.hashNum = hashNum\n",
        "        self.bs = bitarray(bitNum)\n",
        "    \n",
        "    def getBitSet(self):\n",
        "       \n",
        "        return self.bs\n",
        "\n",
        "    def setBitSet(self, bs):\n",
        "        \n",
        "        self.bs = bs\n",
        "\n",
        " \n",
        "    def getSize(self):\n",
        "        \n",
        "        return self.bitNum\n",
        "\n",
        "   \n",
        "    def getHashNum(self):\n",
        "        \n",
        "        return self.hashNum\n",
        "\n",
        "    \n",
        "    def insertString(self, element, timestamp):\n",
        "        result = True\n",
        "        byteElement = element.encode('utf-8')\n",
        "        for i in range(0, self.hashNum):\n",
        "            hash1 = mmh3.hash(byteElement, int(timestamp * self.hashNum + i))\n",
        "            index = self.getIndex(hash1)\n",
        "            self.bs.set(index)\n",
        "\n",
        "        return result\n",
        "\n",
        "    \n",
        "    def queryString(self, element, timestamp):\n",
        "        byteElement = bytearray(element.encode('utf-8'))\n",
        "        isExist = True\n",
        "        for i in range(self.hashNum):\n",
        "            hash1 = mmh3.hash(byteElement, int(timestamp * self.hashNum + i))\n",
        "            index = self.getIndex(hash1)\n",
        "            if not self.bs[index]:\n",
        "                isExist = False\n",
        "                break\n",
        "        return isExist\n",
        "\n",
        "    \n",
        "    def queryString(self, element, startTime, endTime):\n",
        "        isExist = False\n",
        "\n",
        "        if startTime > endTime or startTime < 0 or endTime < 0:\n",
        "            isExist = False\n",
        "        else:\n",
        "            for i in range(startTime, endTime + 1):\n",
        "                if self.queryString(element, i):\n",
        "                    isExist = True\n",
        "                    break\n",
        "\n",
        "        return isExist\n",
        "\n",
        "    \n",
        "    def insert(self, element, timestamp):\n",
        "        result = True\n",
        "        for i in range(self.hashNum):\n",
        "            hash = mmh3.hash(element, (int)(timestamp * self.hashNum + i))\n",
        "            index = self.getIndex(hash)\n",
        "            self.bs[index] = 1\n",
        "        return result\n",
        "\n",
        "   \n",
        "  \n",
        "    def query0(self, element, timestamp):\n",
        "        result = True\n",
        "        for i in range(0, self.hashNum):\n",
        "            hash1 = mmh3.hash(element, int(timestamp * self.hashNum + i))\n",
        "            index = self.getIndex(hash1)\n",
        "            if not self.bs[index]:\n",
        "                result = False\n",
        "                break\n",
        "        return result\n",
        "\n",
        "    \n",
        "    #@query.register(object, byte, long, long)\n",
        "    def query(self, element, startTime, endTime):\n",
        "        result = False\n",
        "        if startTime > endTime or endTime < 0:\n",
        "            result = False\n",
        "        else:\n",
        "            startTime = startTime if startTime > 0 else 0\n",
        "            for i in range(startTime, endTime+1):\n",
        "                if self.query0(element, i):\n",
        "                    result = True\n",
        "                    break\n",
        "        return result\n",
        "\n",
        "    def getIndex(self, hash1):\n",
        "        \n",
        "        index = hash1 % self.bitNum\n",
        "        return index if index >= 0 else -index\n",
        "    "
      ]
    },
    {
      "cell_type": "code",
      "execution_count": null,
      "metadata": {
        "colab": {
          "base_uri": "https://localhost:8080/"
        },
        "id": "9wMNU_cyRAhe",
        "outputId": "bcdb2621-113e-4ba2-9269-b067f9f5a752"
      },
      "outputs": [
        {
          "output_type": "stream",
          "name": "stdout",
          "text": [
            "True\n",
            "False\n",
            "False\n",
            "True\n",
            "True\n",
            "True\n",
            "False\n"
          ]
        }
      ],
      "source": [
        "    def main():\n",
        "        element = \"guo\".encode()\n",
        "        b = Beta0(100000, 6)\n",
        "        b.insert(element, 100)\n",
        "        print(b.query0(element, 100))\n",
        "        print(b.query(element, 0, 99))\n",
        "        print(b.query(element, 101, 200))\n",
        "        print(b.query(element, 0, 100))\n",
        "        print(b.query(element, 100, 200))\n",
        "        print(b.query(element, 0, 200))\n",
        "        print(b.query(element, 200, 215))\n",
        "    \n",
        "    if __name__ == \"__main__\":\n",
        "        main()\n"
      ]
    },
    {
      "cell_type": "code",
      "execution_count": null,
      "metadata": {
        "id": "-hnFwHrdazWn"
      },
      "outputs": [],
      "source": [
        "import array  "
      ]
    },
    {
      "cell_type": "code",
      "execution_count": null,
      "metadata": {
        "id": "6sM502d-a0bc"
      },
      "outputs": [],
      "source": [
        "class BinaryUtil2:\n",
        "    bitMask = array.array('I', [0xffffffff, 0xfffffffe, 0xfffffffc, 0xfffffff8,\n",
        "                           0xfffffff0, 0xffffffe0, 0xffffffc0, 0xffffff80, 0xffffff00,\n",
        "                           0xfffffe00, 0xfffffc00, 0xfffff800, 0xfffff000, 0xffffe000,\n",
        "                           0xffffc000, 0xffff8000, 0xffff0000, 0xfffe0000, 0xfffc0000,\n",
        "                           0xfff80000, 0xfff00000, 0xffe00000, 0xffc00000, 0xff800000,\n",
        "                           0xff000000, 0xfe000000, 0xfc000000, 0xf8000000, 0xf0000000,\n",
        "                           0xe0000000, 0xc0000000, 0x80000000, 0x00000000])\n",
        "    levelSize = [0, 1 << 0, 1 << 1, 1 << 2, 1 << 3, 1 << 4, 1 << 5, 1 << 6, 1 << 7, 1 << 8, 1 << 9, 1 << 10, 1 << 11, 1 << 12, 1 << 13, 1 << 14, 1 << 15, 1 << 16, 1 << 17, 1 << 18, 1 << 19, 1 << 20, 1 << 21, 1 << 22, 1 << 23, 1 << 24, 1 << 25, 1 << 26, 1 << 27, 1 << 28, 1 << 29, 1 << 30 ]\n",
        "    #bitMask = [ 0xffffffff, 0xfffffffe, 0xfffffffc, 0xfffffff8, 0xfffffff0, 0xffffffe0, 0xffffffc0, 0xffffff80, 0xffffff00, 0xfffffe00, 0xfffffc00, 0xfffff800, 0xfffff000, 0xffffe000, 0xffffc000, 0xffff8000, 0xffff0000, 0xfffe0000, 0xfffc0000, 0xfff80000, 0xfff00000, 0xffe00000, 0xffc00000, 0xff800000, 0xff000000, 0xfe000000, 0xfc000000, 0xf8000000, 0xf0000000, 0xe0000000, 0xc0000000, 0x80000000, 0x00000000 ]\n",
        "    #levelSize = [ 0, 1 << 0, 1 << 1, 1 << 2, 1 << 3, 1 << 4, 1 << 5, 1 << 6, 1 << 7, 1 << 8, 1 << 9, 1 << 10, 1 << 11, 1 << 12, 1 << 13, 1 << 14, 1 << 15, 1 << 16, 1 << 17, 1 << 18, 1 << 19, 1 << 20, 1 << 21, 1 << 22, 1 << 23, 1 << 24, 1 << 25, 1 << 26, 1 << 27, 1 << 28, 1 << 29, 1 << 30 ]\n",
        "\n",
        "    def getBinaryDecomposition(start, end):\n",
        "        result = []\n",
        "        i = start\n",
        "        while i <= end:\n",
        "            level = BinaryUtil2.getBinaryLevel(i, end)\n",
        "            result.append(DualTuple(i, level))\n",
        "            #print(result)\n",
        "            i = i + (np.left_shift(1, (level - 1)))\n",
        "        return result\n",
        "      \n",
        "  \n",
        "\n",
        "\n",
        "\n",
        "    def getBinaryLevel(startKey, endKey):\n",
        "        level = 1\n",
        "        if startKey == endKey:\n",
        "            level = 1\n",
        "        elif 0 == startKey:\n",
        "            size = endKey - startKey + 1\n",
        "            start = 1\n",
        "            end = 31\n",
        "            middle = (start + end) / 2\n",
        "            middle = int(middle)\n",
        "            \n",
        "            while start < end:\n",
        "                middle = (start + end) / 2\n",
        "                middle = int(middle)\n",
        "                if BinaryUtil2.levelSize[middle] == size:\n",
        "                    break\n",
        "                elif BinaryUtil2.levelSize[middle] < size:\n",
        "                    start = middle + 1\n",
        "                else:\n",
        "                    end = middle\n",
        "            if BinaryUtil2.levelSize[middle] > size:\n",
        "                level = middle - 1\n",
        "            else:\n",
        "                level = middle\n",
        "        else:\n",
        "            start = 1\n",
        "            end = 32\n",
        "            middle = (start + end) / 2\n",
        "            middle = int(middle)\n",
        "            while start < end:\n",
        "                if 0 == (startKey & ~BinaryUtil2.bitMask[int(middle)]):\n",
        "                    start = middle + 1\n",
        "                else:\n",
        "                    end = middle\n",
        "                middle = (start + end) / 2\n",
        "            level = int(middle)\n",
        "            while (startKey + int(np.left_shift(1, level-1))) > (endKey + 1):\n",
        "                level -= 1\n",
        "        return level\n",
        "    def getStartKey(startTime, endTime, level):\n",
        "        a = []\n",
        "        for x in BinaryUtil2.y:\n",
        "            a.append(x)\n",
        "        startKey = np.array(a)\n",
        "        if 30 < level or 0 > level:\n",
        "            pass\n",
        "        else:\n",
        "            i = startTime / BinaryUtil2.levelSize[level + 1]\n",
        "            startKeyTemp = i * BinaryUtil2.levelSize[level + 1]\n",
        "            while startKeyTemp <= endTime:\n",
        "                startKey.append(startKeyTemp)\n",
        "                startKeyTemp += BinaryUtil2.levelSize[level + 1]\n",
        "        return startKey\n",
        "        "
      ]
    },
    {
      "cell_type": "code",
      "execution_count": null,
      "metadata": {
        "colab": {
          "base_uri": "https://localhost:8080/"
        },
        "id": "aPYAMX4ORAhn",
        "outputId": "1cf15316-01dd-4665-b916-aae9b18f8097"
      },
      "outputs": [
        {
          "output_type": "stream",
          "name": "stdout",
          "text": [
            "0: 5\n",
            "16: 1\n"
          ]
        }
      ],
      "source": [
        "def main():\n",
        "    list1 = BinaryUtil2.getBinaryDecomposition (0, 16)\n",
        "    #print(list1)\n",
        "    #print(\"jk\")\n",
        "    for i in list1:\n",
        "        print(str(i.getFirst()) + \": \" + str(i.getSecond()))\n",
        "        #print(\"jk\")\n",
        "\n",
        "if __name__ == \"__main__\":\n",
        "    main()      "
      ]
    },
    {
      "cell_type": "code",
      "execution_count": null,
      "metadata": {
        "id": "09SJCk6ARAho"
      },
      "outputs": [],
      "source": []
    },
    {
      "cell_type": "code",
      "execution_count": null,
      "metadata": {
        "id": "dzBMRMDNRAho"
      },
      "outputs": [],
      "source": [
        "import hashlib\n",
        "\n",
        "class BasicBloomFilter:\n",
        "    \n",
        "    def __init__(self, bitNum=100000, hashNum=4):\n",
        "        self.bitNum = bitNum\n",
        "        self.hashNum = hashNum\n",
        "        self.bs = bitarray(self.bitNum)\n",
        "        \n",
        "    def getBitSet(self):\n",
        "        return self.bs\n",
        "    \n",
        "    def setBitSet(self, bs):\n",
        "        self.bs = bs\n",
        "        \n",
        "    def get_size(self):\n",
        "        return self.bitNum\n",
        "    \n",
        "    def getHashNum(self):\n",
        "        return self.hashNum\n",
        "    \n",
        "    \n",
        "        \n",
        "        \n",
        "    def insert(self, element):\n",
        "        for i in range(0, self.hashNum):\n",
        "            hash1 = mmh3.hash(element, i)\n",
        "            index = self.getIndex(hash1)\n",
        "            self.bs.__setitem__(index, True)\n",
        "            \n",
        "            \n",
        "    \n",
        "    def insertString(self, element):\n",
        "        byteElement = bytearray(element, 'utf-8')\n",
        "\n",
        "        for i in range(self.hashNum):\n",
        "            hash1 =mmh3.hash(byteElement, i)\n",
        "            index = self.getIndex(hash1)\n",
        "            self.bs.__setitem__(index, True)\n",
        "    \n",
        "    def query(self, element):\n",
        "        isExist = True\n",
        "        for i in range(self.hashNum):\n",
        "            hash1 = mmh3.hash(element, i)\n",
        "            index = self.getIndex(hash1)\n",
        "            if False == self.bs[index]:\n",
        "                isExist = False\n",
        "                break\n",
        "\n",
        "        return isExist\n",
        "                \n",
        "    \n",
        "    def queryString(self, element):\n",
        "        byteElement = bytearray(element)\n",
        "        isExist = True\n",
        "        for i in range(0, self.hashNum):\n",
        "            hash1 = mmh3.hash(byteElement, i)\n",
        "            index = self.getIndex(hash1)\n",
        "            if not self.bs[index]:\n",
        "                isExist = False\n",
        "            break\n",
        "        return isExist\n",
        "\n",
        "    \n",
        "            \n",
        "    \n",
        "    def getPFP(self, insertNum):\n",
        "        return self.decimal.ONE\n",
        "        \n",
        "    def getIndex(self,hash1):\n",
        "        index = hash1 % self.bitNum\n",
        "        return index if index >= 0 else -index\n",
        "    \n",
        "    \n",
        "    "
      ]
    },
    {
      "cell_type": "code",
      "execution_count": null,
      "metadata": {
        "colab": {
          "base_uri": "https://localhost:8080/"
        },
        "id": "Y0B2kLKZRAhp",
        "outputId": "1cfbe92f-4e9c-4e56-9515-5e854df9b0a4"
      },
      "outputs": [
        {
          "output_type": "stream",
          "name": "stdout",
          "text": [
            "True\n",
            "False\n"
          ]
        }
      ],
      "source": [
        "    def main():\n",
        "      bbf = BasicBloomFilter(100000, 5)\n",
        "      bbf.insert(\"guo\".encode())\n",
        "      print(bbf.query(\"guo\".encode()))\n",
        "      print(bbf.query(\"g\".encode()))\n",
        "\n",
        "    if __name__ == \"__main__\":\n",
        "      main()"
      ]
    },
    {
      "cell_type": "code",
      "execution_count": null,
      "metadata": {
        "id": "hw1CBu_Ytkh_"
      },
      "outputs": [],
      "source": []
    },
    {
      "cell_type": "code",
      "execution_count": null,
      "metadata": {
        "id": "10TiqNMety7X"
      },
      "outputs": [],
      "source": [
        "class CommonConstants(object):\n",
        "    g = [1 << 0, 1 << 1, 1 << 2, 1 << 3, 1 << 4, 1 << 5, 1 << 6, 1 << 7, 1 << 8, 1 << 9, 1 << 10, 1 << 11, 1 << 12, 1 << 13, 1 << 14, 1 << 15, 1 << 16, 1 << 17, 1 << 18, 1 << 19, 1 << 20, 1 << 21, 1 << 22, 1 << 23, 1 << 24, 1 << 25, 1 << 26, 1 << 27, 1 << 28, 1 << 29, 1 << 30]\n",
        "    K_MAX = 16\n",
        "    MAX_LEVEL_NUM = 30"
      ]
    },
    {
      "cell_type": "code",
      "execution_count": null,
      "metadata": {
        "id": "D6e6-hEHRAhq"
      },
      "outputs": [],
      "source": [
        "from collections import defaultdict"
      ]
    },
    {
      "cell_type": "code",
      "execution_count": null,
      "metadata": {
        "id": "MYML1hw1RAhr"
      },
      "outputs": [],
      "source": [
        "class Beta1(PersistentBloomFilter):\n",
        "    \n",
        "    def __init__(self, bitNum, levelNum, g):\n",
        "        self.b0 = Beta0(bitNum, CommonConstants.K_MAX)\n",
        "        self.totalBitNum = bitNum   \n",
        "        self.gLevel = 1\n",
        "        tempG = g\n",
        "        tempG = tempG / 2\n",
        "        tempG = int(tempG)\n",
        "        while (tempG  > 0):\n",
        "            tempG = int(tempG / 2)\n",
        "            self.gLevel += 1\n",
        "            \n",
        "        \n",
        "        self.bfArray = []\n",
        "        j = 2\n",
        "        self.bitNumTmp = bitNum\n",
        "        #i = 0\n",
        "        #print(self.gLevel)\n",
        "        #for i = 0; i < (1 << (levelNum - self.gLevel + 1))-1; i++:\n",
        "        #while (i < (1 << int(np.left_shift(1,(levelNum - self.gLevel + 1))) - 1)):   \n",
        "        for i in range(0, int(np.left_shift(1,(levelNum - self.gLevel + 1))) - 1):\n",
        "            self.bfArray.append(BasicBloomFilter(self.bitNumTmp, CommonConstants.K_MAX))\n",
        "            self.totalBitNum += self.bitNumTmp\n",
        "            \n",
        "        \n",
        "        self.levelNum = levelNum\n",
        "        self.g = g\n",
        "        self.maxT = CommonConstants.g[levelNum - 1] - 1\n",
        "        \n",
        "    def __init(self, m, k, levelNum, g):\n",
        "        self.gLevel = 1\n",
        "        tempG = g\n",
        "        tempG = int(tempG / 2)\n",
        "        while (tempG / 2) > 0:\n",
        "            self.gLevel += 1\n",
        "            \n",
        "        self.b0 = Beta0(m[0], k[0])\n",
        "        self.totalBitNum = m[0]\n",
        "        self.bfArray = []\n",
        "        for i in range(1, len(m)):\n",
        "            if m[i] == 0:\n",
        "                self.bfArray.append(BasicBloomFilter(1, 1))\n",
        "            else:\n",
        "                self.bfArray.append(BasicBloomFilter(m[i], k[i]))\n",
        "                self.totalBitNum += m[i]\n",
        "                \n",
        "        self.levelNum = levelNum\n",
        "        self.g = g\n",
        "        self.maxT = CommonConstants.g[levelNum - 1] - 1\n",
        "        \n",
        "    def insertString(self, element, timestamp):\n",
        "        index = 1\n",
        "        start = 0\n",
        "        end = self.maxT\n",
        "        for i in range(0, self.levelNum - self.gLevel + 1):\n",
        "            self.bfArray.get(index - 1).insertString(element)\n",
        "            mid = (start + end) / 2\n",
        "            mid = int(mid)\n",
        "            if mid < timestamp:\n",
        "                start = mid + 1 \n",
        "                index = index * 2 + 1\n",
        "            else:\n",
        "                end = mid\n",
        "                index = index * 2\n",
        "                \n",
        "        self.b0.insertString(element, timestamp)\n",
        "        return True\n",
        "    \n",
        "\n",
        "   \n",
        "\n",
        "    def queryString(self, element, startTime, endTime=None):\n",
        "        if endTime == None:\n",
        "            return False\n",
        "        result = False\n",
        "        indexArray = self.getBinaryDecomposition(startTime, endTime)\n",
        "        for i in range(len(indexArray)):\n",
        "            index = indexArray[i]\n",
        "            if self.bfArray.get(index - 1).queryString(element):\n",
        "                if i == 0 and index > len(self.bfArray) / 2 and not self.b0.queryString(element, startTime, startTime + self.g - startTime / self.g - 1):\n",
        "                    continue          \n",
        "                elif i == len(indexArray) - 1 and index > len(self.bfArray) / 2 and not self.b0.queryString(element, endTime - endTime / self.g, endTime):\n",
        "                    continue\n",
        "                result = True\n",
        "                break\n",
        "        return result\n",
        "        \n",
        "\n",
        "        \n",
        "    def insert(self, element, timestamp):\n",
        "        result = True\n",
        "        index = 1\n",
        "        start = 0\n",
        "        end = self.maxT\n",
        "        for i in range(0, self.levelNum - self.gLevel + 1):\n",
        "            bf = self.bfArray[index - 1]\n",
        "            if None != bf:\n",
        "                bf.insert(element)\n",
        "            mid = (start + end) / 2\n",
        "            mid = int(mid)\n",
        "                \n",
        "            if mid < timestamp:\n",
        "                start = mid + 1\n",
        "                index = index * 2 + 1\n",
        "                \n",
        "            else:\n",
        "                end = mid\n",
        "                index = index * 2\n",
        "            i += 1\n",
        "        self.b0.insert(element, timestamp)\n",
        "        return result\n",
        "\n",
        "    def query(element, timestamp):\n",
        "        return False\n",
        "\n",
        "    def query(self, element, startTime, endTime):\n",
        "        result = False\n",
        "        indexArray = self.getBinaryDecomposition(startTime, endTime)\n",
        "\n",
        "        for i in range(0, len(indexArray)):\n",
        "            index = int(indexArray[i])\n",
        "            #print(indexArray[i])\n",
        "            bf = self.bfArray[index - 1]\n",
        "            if  None == bf:\n",
        "                result = True\n",
        "                break\n",
        "            elif bf.query(element):\n",
        "                if i == 0 and index > len(self.bfArray) / 2 and not self.b0.query(element, startTime, startTime + self.g - startTime % self.g - 1):\n",
        "                    continue\n",
        "                elif i == len(indexArray) - 1 and index > len(self.bfArray) / 2 and not self.b0.query(element, endTime - endTime % self.g, endTime):\n",
        "                    continue\n",
        "                result = True\n",
        "                break\n",
        "        return result\n",
        "    \n",
        "    def getBinaryDecomposition(self, start, end):\n",
        "        results = []\n",
        "        #for i in range(start, end):\n",
        "        i = start\n",
        "        while i <= end:\n",
        "            level = BinaryUtil2.getBinaryLevel(i, end)\n",
        "            #print(\"level = \"+ str(level))\n",
        "            index = np.left_shift(1, self.levelNum - level) + int(i / CommonConstants.g[level-1])\n",
        "            #index = (1 << (self.levelNum - level)) + i / CommonConstants.g[level - 1]\n",
        "            #print(\"index value: \" + str(index))\n",
        "            #print(\"bf array = \"+str())\n",
        "            bf = len(self.bfArray)\n",
        "\n",
        "            while (index > bf):\n",
        "                index = index / 2\n",
        "                index = int(index)\n",
        "            \n",
        "            results.append(index)\n",
        "            i = i + (np.left_shift(1, level - 1))  \n",
        "        #print(results)\n",
        "        return results\n",
        "    \n",
        "    \n",
        "    \n",
        "    def getBfArray(self):\n",
        "        return self.bfArray\n",
        "    \n",
        "    def getB0(self):\n",
        "        return self.b0\n",
        "    \n",
        "    def getLevelNum(self):\n",
        "        return self.levelNum\n",
        "    \n",
        "    def getLevelNum(self, maxT):\n",
        "        result = 0\n",
        "        for i in range(0, len(CommonConstants.g)):\n",
        "            if (maxT + 1) <= CommonConstants.g[i]:\n",
        "                result = i + 1\n",
        "                break\n",
        "        return result\n",
        "    \n",
        "    def getG(self):\n",
        "        return self.g\n",
        "    \n",
        "    def getMaxT(self):\n",
        "        return self.maxT\n",
        "    \n",
        "    def getTotalBitNum(self):\n",
        "        return self.totalBitNum\n",
        "\n",
        "    \n",
        "       \n",
        "        "
      ]
    },
    {
      "cell_type": "code",
      "execution_count": null,
      "metadata": {
        "colab": {
          "base_uri": "https://localhost:8080/"
        },
        "id": "9cpourBWRAhv",
        "outputId": "42cc0ba8-6953-4ae8-de39-9ac739cd8c6b"
      },
      "outputs": [
        {
          "output_type": "stream",
          "name": "stdout",
          "text": [
            "True\n",
            "False\n",
            "False\n",
            "3\n",
            "============\n",
            "9\n",
            "5\n",
            "12\n",
            "[8]\n"
          ]
        }
      ],
      "source": [
        "def main():\n",
        "        element = \"guo\".encode()\n",
        "        b1 = Beta1(10000, 4, 1)\n",
        "        b1.insert(element, 4)\n",
        "        print(b1.query(element, 2, 5))\n",
        "        print(b1.query(element, 2, 3))\n",
        "        print(b1.query(\"jin\".encode(), 1, 6))\n",
        "        print(b1.getLevelNum(3))\n",
        "        print(\"============\")\n",
        "        list1 = b1.getBinaryDecomposition(1, 4)\n",
        "        for i in range(0, len(list1)):\n",
        "            print(list1[i])         \n",
        "        print(b1.getBinaryDecomposition(0, 0))\n",
        "        \n",
        "        \n",
        "if __name__ == \"__main__\":\n",
        "    main()"
      ]
    },
    {
      "cell_type": "code",
      "execution_count": null,
      "metadata": {
        "id": "hvGbotriRAhx"
      },
      "outputs": [],
      "source": []
    },
    {
      "cell_type": "code",
      "execution_count": null,
      "metadata": {
        "id": "0ctVmSpIRAhy"
      },
      "outputs": [],
      "source": []
    },
    {
      "cell_type": "code",
      "execution_count": null,
      "metadata": {
        "id": "_gM9h80xRAhz"
      },
      "outputs": [],
      "source": []
    }
  ],
  "metadata": {
    "colab": {
      "collapsed_sections": [],
      "provenance": []
    },
    "kernelspec": {
      "display_name": "Python 3 (ipykernel)",
      "language": "python",
      "name": "python3"
    },
    "language_info": {
      "codemirror_mode": {
        "name": "ipython",
        "version": 3
      },
      "file_extension": ".py",
      "mimetype": "text/x-python",
      "name": "python",
      "nbconvert_exporter": "python",
      "pygments_lexer": "ipython3",
      "version": "3.9.13"
    }
  },
  "nbformat": 4,
  "nbformat_minor": 0
}